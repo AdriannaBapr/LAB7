{
 "cells": [
  {
   "cell_type": "code",
   "execution_count": null,
   "metadata": {},
   "outputs": [],
   "source": [
    "import plotly.graph_objects as go\n",
    "import pandas as pd\n",
    "import numpy as np\n",
    "import scipy.stats as stats\n",
    "\n",
    "df = pd.read_csv(\"wyniki.csv\")\n",
    "df"
   ]
  },
  {
   "cell_type": "code",
   "execution_count": null,
   "metadata": {},
   "outputs": [],
   "source": [
    "def zamien(wartosc):\n",
    "    if wartosc == 'M': return 1\n",
    "    if wartosc == 'F': return 0\n",
    "    \n",
    "df.plec = df.plec.apply(zamien)\n",
    "\n",
    "df"
   ]
  },
  {
   "attachments": {},
   "cell_type": "markdown",
   "metadata": {},
   "source": [
    "**Hipoteza zerowa**: nie ma istotnej różnicy w Ocenie końcowej pomiędzy uczniami i uczennicami.\n",
    "\n",
    "\n",
    "**Hipoteza alternatywna**: istnieje istotna różnica (bez wskazania kierunku) w Ocenie końcowej pomiędzy uczniami i uczennicami.\n",
    "\n",
    "Przyjmij significance level (alpha) na poziomie 0.05. \n"
   ]
  },
  {
   "cell_type": "code",
   "execution_count": null,
   "metadata": {},
   "outputs": [],
   "source": [
    "a = df['plec']\n",
    "b = df['ocena_koncowa']"
   ]
  },
  {
   "cell_type": "code",
   "execution_count": null,
   "metadata": {},
   "outputs": [],
   "source": [
    "stats.ttest_ind(a,b)"
   ]
  },
  {
   "attachments": {},
   "cell_type": "markdown",
   "metadata": {},
   "source": [
    "p-value jest dużo mniejsze niż alfa, wiec przyjmujemy hipotezę alternatywną"
   ]
  }
 ],
 "metadata": {
  "kernelspec": {
   "display_name": "Python 3",
   "language": "python",
   "name": "python3"
  },
  "language_info": {
   "name": "python",
   "version": "3.10.9 (tags/v3.10.9:1dd9be6, Dec  6 2022, 20:01:21) [MSC v.1934 64 bit (AMD64)]"
  },
  "orig_nbformat": 4,
  "vscode": {
   "interpreter": {
    "hash": "54aa3ae12b4e8088d92a57fc03fbabda1244a4224e704a0507736e9da1024003"
   }
  }
 },
 "nbformat": 4,
 "nbformat_minor": 2
}
