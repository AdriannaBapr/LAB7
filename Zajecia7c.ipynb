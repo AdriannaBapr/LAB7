{
 "cells": [
  {
   "cell_type": "code",
   "execution_count": null,
   "metadata": {},
   "outputs": [],
   "source": [
    "#import plotly.graph_objects as go\n",
    "import pandas as pd\n",
    "#import numpy as np\n",
    "import statsmodels.api as sm\n",
    "import plotly.express as px\n",
    "import seaborn as sns\n",
    "%matplotlib inline\n",
    "\n",
    "df = pd.read_csv(\"spendingscores.csv\")\n",
    "df"
   ]
  },
  {
   "cell_type": "code",
   "execution_count": null,
   "metadata": {},
   "outputs": [],
   "source": [
    "def zamien(wartosc):\n",
    "    if wartosc == 'Male': return 1\n",
    "    if wartosc == 'Female': return 0\n",
    "    \n",
    "df.Gender = df.Gender.apply(zamien)\n",
    "df"
   ]
  },
  {
   "cell_type": "code",
   "execution_count": null,
   "metadata": {},
   "outputs": [],
   "source": [
    "X = df[['Gender', 'Age', 'AnnualIncome']]\n",
    "Y = df['SpendingScore'] \n",
    "model = sm.OLS(Y, X)\n",
    "results = model.fit()"
   ]
  },
  {
   "cell_type": "code",
   "execution_count": null,
   "metadata": {},
   "outputs": [],
   "source": [
    "print(\"P-values: \\n\" + str(model.fit().pvalues) + \"\\n\")\n",
    "print(\"Standard dev: \" + str(results.bse) + \"\\n\")\n",
    "print(\"Coefficients: \\n\" + str(results.params))"
   ]
  },
  {
   "cell_type": "code",
   "execution_count": null,
   "metadata": {},
   "outputs": [],
   "source": [
    "corr = df.corr()\n",
    "sns.heatmap(corr, annot = True)"
   ]
  },
  {
   "cell_type": "code",
   "execution_count": null,
   "metadata": {},
   "outputs": [],
   "source": [
    "df.drop('Gender', axis = 1, inplace = True)\n",
    "df"
   ]
  },
  {
   "cell_type": "code",
   "execution_count": null,
   "metadata": {},
   "outputs": [],
   "source": [
    "X1 = df[['Age', 'AnnualIncome']]\n",
    "Y1 = df['SpendingScore'] \n",
    "model1 = sm.OLS(Y1, X1)\n",
    "results1 = model1.fit()\n",
    "results1.summary()"
   ]
  }
 ],
 "metadata": {
  "kernelspec": {
   "display_name": "Python 3",
   "language": "python",
   "name": "python3"
  },
  "language_info": {
   "name": "python",
   "version": "3.10.9 (tags/v3.10.9:1dd9be6, Dec  6 2022, 20:01:21) [MSC v.1934 64 bit (AMD64)]"
  },
  "orig_nbformat": 4,
  "vscode": {
   "interpreter": {
    "hash": "54aa3ae12b4e8088d92a57fc03fbabda1244a4224e704a0507736e9da1024003"
   }
  }
 },
 "nbformat": 4,
 "nbformat_minor": 2
}
